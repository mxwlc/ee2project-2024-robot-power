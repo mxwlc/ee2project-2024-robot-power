{
 "cells": [
  {
   "cell_type": "markdown",
   "id": "3ddb22d8-3f7a-4969-b0cb-81f8b6f0b39c",
   "metadata": {},
   "source": [
    "# What are tensors\n",
    "Similar to numpy ndarrays but can be calculated on the computers gpu"
   ]
  },
  {
   "cell_type": "code",
   "execution_count": 14,
   "id": "919d26ae-0742-429f-b6c1-1b3763f2b1f4",
   "metadata": {},
   "outputs": [],
   "source": [
    "import torch\n",
    "import numpy as np"
   ]
  },
  {
   "cell_type": "markdown",
   "id": "c9b00057-a6eb-49d1-b19a-c8de9f68bee3",
   "metadata": {},
   "source": [
    "# How to Define\n",
    "## From Data\n",
    "Type is inferred"
   ]
  },
  {
   "cell_type": "code",
   "execution_count": 15,
   "id": "7d3f5c09-7ab2-415e-8f2b-576d6bcaebbe",
   "metadata": {},
   "outputs": [],
   "source": [
    "data = [[1,2],[3,4]]\n",
    "x_data = torch.tensor(data)"
   ]
  },
  {
   "cell_type": "markdown",
   "id": "ea69dbde-ad04-4d14-9039-b1cbde9282c9",
   "metadata": {},
   "source": [
    "## From a numpy array\n",
    "Brige w/ numpy"
   ]
  },
  {
   "cell_type": "code",
   "execution_count": 16,
   "id": "fe6efdb0-b955-49e4-b4a0-d81ee1246916",
   "metadata": {},
   "outputs": [],
   "source": [
    "np_array = np.array(data)\n",
    "x_np = torch.from_numpy(np_array)"
   ]
  },
  {
   "cell_type": "markdown",
   "id": "f4392571-dc92-4bcb-b433-7eea24edd77c",
   "metadata": {},
   "source": [
    "## From Another Tensor"
   ]
  },
  {
   "cell_type": "code",
   "execution_count": 17,
   "id": "e27e0a05-b17d-4dd8-a545-235796306c7a",
   "metadata": {},
   "outputs": [
    {
     "name": "stdout",
     "output_type": "stream",
     "text": [
      "Ones Tensor \n",
      " tensor([[1, 1],\n",
      "        [1, 1]]) \n",
      "\n",
      "Random tensor \n",
      " tensor([[0.9285, 0.7186],\n",
      "        [0.1259, 0.9819]]) \n",
      "\n"
     ]
    }
   ],
   "source": [
    "x_ones = torch.ones_like(x_data)\n",
    "print(f\"Ones Tensor \\n {x_ones} \\n\")\n",
    "\n",
    "x_rand = torch.rand_like(x_data, dtype= torch.float)\n",
    "print(f\"Random tensor \\n {x_rand} \\n\")\n"
   ]
  },
  {
   "cell_type": "markdown",
   "id": "9d771300-5701-4d5a-aefe-64b9ebe3c0fe",
   "metadata": {},
   "source": [
    "## Random of constant Values\n",
    "For a tensor of `shape = (i,j,k)` \n",
    "\n",
    "|Method|Description|\n",
    "|-----|-------|\n",
    "|`rand(shape)` | random tensor of shape `(i,j,k)`|\n",
    "|`ones(shape)` | Identity tensor of shape `(i,j,k)`|\n",
    "|`zeros(shape)` | Empty tensor of shape `(i,j,k)`|"
   ]
  },
  {
   "cell_type": "code",
   "execution_count": 18,
   "id": "6bf2e18c-7722-4afa-b007-116c2fc4ce05",
   "metadata": {},
   "outputs": [
    {
     "name": "stdout",
     "output_type": "stream",
     "text": [
      "Random tensor \n",
      " tensor([[0.4995, 0.1997, 0.6389],\n",
      "        [0.0944, 0.7799, 0.6536]]) \n",
      "\n",
      "Ones tensor \n",
      " tensor([[1., 1., 1.],\n",
      "        [1., 1., 1.]]) \n",
      "\n",
      "Zeros tensor \n",
      " tensor([[0., 0., 0.],\n",
      "        [0., 0., 0.]]) \n",
      "\n"
     ]
    }
   ],
   "source": [
    "shape = (2,3,)\n",
    "rand_tensor = torch.rand(shape)\n",
    "ones_tensor = torch.ones(shape)\n",
    "zeros_tensor = torch.zeros(shape)\n",
    "\n",
    "print(f\"Random tensor \\n {rand_tensor} \\n\")\n",
    "print(f\"Ones tensor \\n {ones_tensor} \\n\")\n",
    "print(f\"Zeros tensor \\n {zeros_tensor} \\n\")"
   ]
  },
  {
   "cell_type": "markdown",
   "id": "890a7d16-e5f8-4433-b031-63fc0d8e1b42",
   "metadata": {},
   "source": [
    "## Attributes"
   ]
  },
  {
   "cell_type": "code",
   "execution_count": 19,
   "id": "ed6deed9-6b09-41e7-a7fd-66c15778f5cc",
   "metadata": {},
   "outputs": [
    {
     "name": "stdout",
     "output_type": "stream",
     "text": [
      "Shape of tensor : torch.Size([3, 4])\n",
      "Datatype of tensor : torch.float32\n",
      "Device tensor is store on cpu\n"
     ]
    }
   ],
   "source": [
    "tensor = torch.rand(3,4)\n",
    "\n",
    "print(f\"Shape of tensor : {tensor.shape}\")\n",
    "print(f\"Datatype of tensor : {tensor.dtype}\")\n",
    "print(f\"Device tensor is store on {tensor.device}\")"
   ]
  },
  {
   "cell_type": "markdown",
   "id": "d1d5b031-5f4e-47ed-a89e-b9897757fc5b",
   "metadata": {},
   "source": [
    "## Send tensor to gpu"
   ]
  },
  {
   "cell_type": "code",
   "execution_count": 20,
   "id": "cd649f33-8d57-442a-a08e-f29d8913f49e",
   "metadata": {},
   "outputs": [
    {
     "name": "stdout",
     "output_type": "stream",
     "text": [
      "cuda:0\n"
     ]
    }
   ],
   "source": [
    "if torch.cuda.is_available():\n",
    "    tensor = tensor.to(\"cuda\")\n",
    "    print(f\"{tensor.device}\")"
   ]
  },
  {
   "cell_type": "markdown",
   "id": "fa44ce5b-5c1c-451c-b564-eaa2d92f6628",
   "metadata": {},
   "source": [
    "## Tensor indexing and slicing"
   ]
  },
  {
   "cell_type": "code",
   "execution_count": 21,
   "id": "3f0b8d91-a4ee-40bd-b807-136afd116426",
   "metadata": {},
   "outputs": [
    {
     "name": "stdout",
     "output_type": "stream",
     "text": [
      "tensor([[1., 1., 1., 1.],\n",
      "        [1., 1., 1., 1.],\n",
      "        [1., 1., 1., 1.],\n",
      "        [1., 1., 1., 1.]])\n",
      "--------------------------------------------------\n",
      "First Row: tensor([1., 1., 1., 1.])\n",
      "First Column: tensor([1., 1., 1., 1.])\n",
      "Last Column: tensor([1., 1., 1., 1.])\n",
      "tensor([[1., 0., 1., 1.],\n",
      "        [1., 0., 1., 1.],\n",
      "        [1., 0., 1., 1.],\n",
      "        [1., 0., 1., 1.]])\n"
     ]
    }
   ],
   "source": [
    "tensor = torch.ones(4,4)\n",
    "print(tensor)\n",
    "print(\"-\"*50)\n",
    "print(f\"First Row: {tensor[0]}\")\n",
    "print(f\"First Column: {tensor[:,0]}\")\n",
    "print(f\"Last Column: {tensor[...,-1]}\")\n",
    "#sets the 2nd (first index) coloumn to 0\n",
    "tensor[:,1] = 0\n",
    "print(tensor)"
   ]
  },
  {
   "cell_type": "markdown",
   "id": "02a63935-189b-4740-a680-d8f9af2a64ee",
   "metadata": {},
   "source": [
    "## Join Tensors\n",
    "Use `torch.cat` to concatenate a sequence of tensors along a given dimension"
   ]
  },
  {
   "cell_type": "code",
   "execution_count": 22,
   "id": "f621cc53-7173-4168-b967-c74162d9b5e9",
   "metadata": {},
   "outputs": [
    {
     "name": "stdout",
     "output_type": "stream",
     "text": [
      "tensor([[1., 0., 1., 1., 1., 0., 1., 1., 1., 0., 1., 1., 1., 0., 1., 1.],\n",
      "        [1., 0., 1., 1., 1., 0., 1., 1., 1., 0., 1., 1., 1., 0., 1., 1.],\n",
      "        [1., 0., 1., 1., 1., 0., 1., 1., 1., 0., 1., 1., 1., 0., 1., 1.],\n",
      "        [1., 0., 1., 1., 1., 0., 1., 1., 1., 0., 1., 1., 1., 0., 1., 1.]])\n"
     ]
    }
   ],
   "source": [
    "t1 = torch.cat([tensor,tensor,tensor,tensor], dim = 1)\n",
    "print(t1)"
   ]
  },
  {
   "cell_type": "markdown",
   "id": "baf64478-32db-4072-9d1c-fdf77ff75490",
   "metadata": {},
   "source": [
    "## Arithmetic Operations"
   ]
  },
  {
   "cell_type": "code",
   "execution_count": 23,
   "id": "28fc8617-8a74-4db0-9795-d6d8d02eb363",
   "metadata": {},
   "outputs": [
    {
     "name": "stdout",
     "output_type": "stream",
     "text": [
      "y1: tensor([[3., 3., 3., 3.],\n",
      "        [3., 3., 3., 3.],\n",
      "        [3., 3., 3., 3.],\n",
      "        [3., 3., 3., 3.]])  \n",
      "\n",
      "y2: tensor([[3., 3., 3., 3.],\n",
      "        [3., 3., 3., 3.],\n",
      "        [3., 3., 3., 3.],\n",
      "        [3., 3., 3., 3.]])  \n",
      "\n",
      "y3: tensor([[3., 3., 3., 3.],\n",
      "        [3., 3., 3., 3.],\n",
      "        [3., 3., 3., 3.],\n",
      "        [3., 3., 3., 3.]])  \n",
      "\n"
     ]
    }
   ],
   "source": [
    "# The three operations all computes the matrix multiplication between two tensors\n",
    "# ``tensor.T`` returns the transpose of a tensor\n",
    "\n",
    "y1 = tensor @ tensor.T\n",
    "print(f\"y1: {y1}  \\n\")\n",
    "y2 = tensor.matmul(tensor.T)\n",
    "print(f\"y2: {y2}  \\n\")\n",
    "y3 = torch.rand_like(y1)\n",
    "torch.matmul(tensor, tensor.T, out=y3)\n",
    "print(f\"y3: {y3}  \\n\")\n"
   ]
  },
  {
   "cell_type": "code",
   "execution_count": 24,
   "id": "03213c9c-c738-4b38-9f64-50a485b56c7f",
   "metadata": {},
   "outputs": [
    {
     "name": "stdout",
     "output_type": "stream",
     "text": [
      "z1 : tensor([[1., 0., 1., 1.],\n",
      "        [1., 0., 1., 1.],\n",
      "        [1., 0., 1., 1.],\n",
      "        [1., 0., 1., 1.]])\n",
      "z2 : tensor([[1., 0., 1., 1.],\n",
      "        [1., 0., 1., 1.],\n",
      "        [1., 0., 1., 1.],\n",
      "        [1., 0., 1., 1.]])\n",
      "z3 : tensor([[1., 0., 1., 1.],\n",
      "        [1., 0., 1., 1.],\n",
      "        [1., 0., 1., 1.],\n",
      "        [1., 0., 1., 1.]])\n"
     ]
    }
   ],
   "source": [
    "# Element wise product, again all three have the same value\n",
    "z1 = tensor * tensor\n",
    "print(f\"z1 : {z1}\")\n",
    "z2 = tensor.mul(tensor)\n",
    "print(f\"z2 : {z2}\")\n",
    "z3 = torch.rand_like(tensor)\n",
    "torch.mul(tensor, tensor, out= z3)\n",
    "print(f\"z3 : {z3}\")"
   ]
  },
  {
   "cell_type": "markdown",
   "id": "31d8b444-9515-47ea-a4a8-03d16bce2c1d",
   "metadata": {},
   "source": [
    "## Single-element tensors\n",
    "Aggregating all values of a tensor"
   ]
  },
  {
   "cell_type": "code",
   "execution_count": 25,
   "id": "6fd8f694-6be9-4ebe-914f-27aa78898627",
   "metadata": {},
   "outputs": [
    {
     "name": "stdout",
     "output_type": "stream",
     "text": [
      "Single Element Tensor : 12.0\n",
      "Value : D-Type \n",
      "12.0, <class 'float'>\n"
     ]
    }
   ],
   "source": [
    "agg = tensor.sum()\n",
    "print(f\"Single Element Tensor : {agg}\")\n",
    "agg_item = agg.item()\n",
    "print(f\"Value : D-Type \\n{agg_item}, {type(agg_item)}\")"
   ]
  },
  {
   "cell_type": "markdown",
   "id": "16754a0e-4e54-4894-93f4-bc106f2b04b6",
   "metadata": {},
   "source": [
    "## In-place operations"
   ]
  },
  {
   "cell_type": "code",
   "execution_count": 26,
   "id": "1468ab7e-10d9-46df-8259-3f01482e8524",
   "metadata": {},
   "outputs": [
    {
     "name": "stdout",
     "output_type": "stream",
     "text": [
      "tensor([[1., 0., 1., 1.],\n",
      "        [1., 0., 1., 1.],\n",
      "        [1., 0., 1., 1.],\n",
      "        [1., 0., 1., 1.]]) \n",
      "\n",
      "tensor([[6., 5., 6., 6.],\n",
      "        [6., 5., 6., 6.],\n",
      "        [6., 5., 6., 6.],\n",
      "        [6., 5., 6., 6.]])\n"
     ]
    }
   ],
   "source": [
    "print(f\"{tensor} \\n\")\n",
    "tensor.add_(5)\n",
    "print(tensor)"
   ]
  },
  {
   "cell_type": "markdown",
   "id": "49d6297e-bec5-48cb-93cb-0e510c7f31a7",
   "metadata": {},
   "source": [
    "## Bridge with numpy\n",
    "### Tensor to numpy\n",
    "Tensors on CPU and NumPy can share their underlying memory locations and changing one will change the other"
   ]
  },
  {
   "cell_type": "code",
   "execution_count": 27,
   "id": "0b9727df-5f2d-4036-b126-3c4f9c69f2f0",
   "metadata": {},
   "outputs": [
    {
     "name": "stdout",
     "output_type": "stream",
     "text": [
      "t : tensor([1., 1., 1., 1., 1.])\n",
      "b : [1. 1. 1. 1. 1.]\n"
     ]
    }
   ],
   "source": [
    "t = torch.ones(5)\n",
    "print(f\"t : {t}\")\n",
    "\n",
    "n = t.numpy()\n",
    "print(f\"b : {n}\")"
   ]
  },
  {
   "cell_type": "code",
   "execution_count": 29,
   "id": "a6a6fc35-92a0-463d-9684-07089d82e641",
   "metadata": {},
   "outputs": [
    {
     "name": "stdout",
     "output_type": "stream",
     "text": [
      "t : tensor([2., 2., 2., 2., 2.])\n",
      "n : [2. 2. 2. 2. 2.]\n"
     ]
    }
   ],
   "source": [
    "t.add_(1)\n",
    "print(f\"t : {t}\")\n",
    "print(f\"n : {n}\")"
   ]
  },
  {
   "cell_type": "markdown",
   "id": "b365f8a5-d8d0-4ed2-8c42-92f26f1afe60",
   "metadata": {},
   "source": [
    "### NumPy Array to Tensor"
   ]
  },
  {
   "cell_type": "code",
   "execution_count": 32,
   "id": "2781291e-dbc9-4ea5-85a7-83775df2756e",
   "metadata": {},
   "outputs": [],
   "source": [
    "n = np.ones(5)\n",
    "t = torch.from_numpy(n)"
   ]
  },
  {
   "cell_type": "markdown",
   "id": "74d67d2e-0377-4b51-9ab1-eeee54ecd3cf",
   "metadata": {},
   "source": [
    "Changing one changes the other"
   ]
  },
  {
   "cell_type": "code",
   "execution_count": 33,
   "id": "a03cddc5-7273-44f7-bcc6-f604bf2797cd",
   "metadata": {},
   "outputs": [
    {
     "name": "stdout",
     "output_type": "stream",
     "text": [
      "n : [2. 2. 2. 2. 2.]\n",
      "t : tensor([2., 2., 2., 2., 2.], dtype=torch.float64)\n"
     ]
    }
   ],
   "source": [
    "np.add(n,1,out=n)\n",
    "print(f\"n : {n}\")\n",
    "print(f\"t : {t}\")"
   ]
  },
  {
   "cell_type": "code",
   "execution_count": null,
   "id": "86e6a307-ed33-4aeb-a5f7-3bf46f15ed96",
   "metadata": {},
   "outputs": [],
   "source": []
  }
 ],
 "metadata": {
  "kernelspec": {
   "display_name": "Python 3 (ipykernel)",
   "language": "python",
   "name": "python3"
  },
  "language_info": {
   "codemirror_mode": {
    "name": "ipython",
    "version": 3
   },
   "file_extension": ".py",
   "mimetype": "text/x-python",
   "name": "python",
   "nbconvert_exporter": "python",
   "pygments_lexer": "ipython3",
   "version": "3.12.3"
  }
 },
 "nbformat": 4,
 "nbformat_minor": 5
}

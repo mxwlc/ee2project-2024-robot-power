{
 "cells": [
  {
   "cell_type": "markdown",
   "id": "c7776a3b-5c3b-48f7-a673-a885b94fd2fe",
   "metadata": {},
   "source": [
    "# Building Neural Networks\n",
    "## Importing libraries"
   ]
  },
  {
   "cell_type": "code",
   "execution_count": 2,
   "id": "47fb09d8-3085-44a3-ac9a-ba125b683375",
   "metadata": {},
   "outputs": [],
   "source": [
    "import os\n",
    "import torch\n",
    "from torch import nn\n",
    "from torch.utils.data import DataLoader\n",
    "from torchvision import datasets, transforms"
   ]
  },
  {
   "cell_type": "markdown",
   "id": "754a5cf5-92d6-4e6b-86d0-c15db6c230ad",
   "metadata": {},
   "source": [
    "# What device for training?\n",
    "Use GPU of MPS if available. Device configured as such."
   ]
  },
  {
   "cell_type": "code",
   "execution_count": 4,
   "id": "e419efd4-1ad4-4f74-b7c5-86a8a91cd108",
   "metadata": {},
   "outputs": [
    {
     "name": "stdout",
     "output_type": "stream",
     "text": [
      "Using cuda device\n"
     ]
    }
   ],
   "source": [
    "device = (\n",
    "    \"cuda\"\n",
    "    if torch.cuda.is_available()\n",
    "    else \"mps\"\n",
    "    if torch.backends.mps.is_available()\n",
    "    else \"cpu\"\n",
    ")\n",
    "print(f\"Using {device} device\")"
   ]
  },
  {
   "cell_type": "markdown",
   "id": "daad64f0-b794-4c87-b048-bb9dfbfee187",
   "metadata": {},
   "source": [
    "# Defining the nn class\n",
    "Initialise the neural network layers in `__init__`. Every NN subclass implements the operations on input data in the `forward` method"
   ]
  },
  {
   "cell_type": "code",
   "execution_count": 19,
   "id": "6e1c0cc5-604e-45c7-914a-0d27e2781506",
   "metadata": {},
   "outputs": [],
   "source": [
    "class NeuralNetwork(nn.Module):\n",
    "    def __init__(self):\n",
    "        super().__init__()\n",
    "        self.flatten = nn.Flatten()\n",
    "        self.linear_relu_stack = nn.Sequential(\n",
    "            nn.Linear(28*28, 512),\n",
    "            nn.ReLU(),\n",
    "            nn.Linear(512, 512),\n",
    "            nn.ReLU(),\n",
    "            nn.Linear(512,10),\n",
    "        )\n",
    "    def forward(self, x):\n",
    "        x = self.flatten(x)\n",
    "        logits = self.linear_relu_stack(x)\n",
    "        return logits"
   ]
  },
  {
   "cell_type": "markdown",
   "id": "48c46e8d-2145-4732-92c1-9d246860735d",
   "metadata": {},
   "source": [
    "Create an instance of the class move it to the device and check the structure"
   ]
  },
  {
   "cell_type": "code",
   "execution_count": 20,
   "id": "5f65511b-c45c-4a9c-9300-5a7704c0e468",
   "metadata": {},
   "outputs": [
    {
     "name": "stdout",
     "output_type": "stream",
     "text": [
      "NeuralNetwork(\n",
      "  (flatten): Flatten(start_dim=1, end_dim=-1)\n",
      "  (linear_relu_stack): Sequential(\n",
      "    (0): Linear(in_features=784, out_features=512, bias=True)\n",
      "    (1): ReLU()\n",
      "    (2): Linear(in_features=512, out_features=512, bias=True)\n",
      "    (3): ReLU()\n",
      "    (4): Linear(in_features=512, out_features=10, bias=True)\n",
      "  )\n",
      ")\n"
     ]
    }
   ],
   "source": [
    "model = NeuralNetwork().to(device)\n",
    "print(model)"
   ]
  },
  {
   "cell_type": "markdown",
   "id": "79ee6389-ca17-4dfe-ac17-d85c3914e205",
   "metadata": {},
   "source": [
    "As a test call the model with so"
   ]
  },
  {
   "cell_type": "code",
   "execution_count": 22,
   "id": "aa2d6267-9f5e-4077-8764-e5d894ab095f",
   "metadata": {},
   "outputs": [
    {
     "name": "stdout",
     "output_type": "stream",
     "text": [
      "Predicted class: tensor([5], device='cuda:0')\n"
     ]
    }
   ],
   "source": [
    "X = torch.rand(1, 28, 28, device=device)\n",
    "logits = model(X)\n",
    "pred_probab = nn.Softmax(dim=1)(logits)\n",
    "y_pred = pred_probab.argmax(1)\n",
    "print(f\"Predicted class: {y_pred}\")"
   ]
  },
  {
   "cell_type": "markdown",
   "id": "2600fe43-0628-47cf-8cce-174a870117e1",
   "metadata": {},
   "source": [
    "# Layers\n",
    "Break down the layers in the FashionMNIST model. Showing this taking a sample of 3 images of size $28 \\times 28$"
   ]
  },
  {
   "cell_type": "code",
   "execution_count": 24,
   "id": "800d48f6-eb69-48a3-a4eb-98f0e8cbeaa6",
   "metadata": {},
   "outputs": [
    {
     "name": "stdout",
     "output_type": "stream",
     "text": [
      "torch.Size([3, 28, 28])\n"
     ]
    }
   ],
   "source": [
    "input_image = torch.rand(3,28,28)\n",
    "print(input_image.size())"
   ]
  },
  {
   "cell_type": "markdown",
   "id": "8d506578-5c66-4b31-94f9-a42538cce0e5",
   "metadata": {},
   "source": [
    "# `nn.Flatten`\n",
    "Initialising the `nn.flatten` layer turns each 2d 28x28 imsgine into a contiguous array of 784 pixel values\n",
    "(minibatch dimension(at dim = 0) is maintained)"
   ]
  },
  {
   "cell_type": "code",
   "execution_count": 25,
   "id": "77d2fb5f-335c-4a1b-8537-a96ca0da3672",
   "metadata": {},
   "outputs": [
    {
     "name": "stdout",
     "output_type": "stream",
     "text": [
      "torch.Size([3, 784])\n"
     ]
    }
   ],
   "source": [
    "flatten = nn.Flatten()\n",
    "flat_image = flatten(input_image)\n",
    "print(flat_image.size())"
   ]
  },
  {
   "cell_type": "markdown",
   "id": "613b8a84-2fba-4a1a-944f-e661779889b0",
   "metadata": {},
   "source": [
    "# `nn.Linear`\n",
    "Applies a linear transformation on the input usin gits stored weights and biases"
   ]
  },
  {
   "cell_type": "code",
   "execution_count": 26,
   "id": "bf6e534f-364a-4668-abe6-b9a24bc45ec7",
   "metadata": {},
   "outputs": [
    {
     "name": "stdout",
     "output_type": "stream",
     "text": [
      "torch.Size([3, 20])\n"
     ]
    }
   ],
   "source": [
    "layer1 = nn.Linear(in_features=28*28, out_features=20)\n",
    "hidden1 = layer1(flat_image)\n",
    "print(hidden1.size())"
   ]
  },
  {
   "cell_type": "markdown",
   "id": "51afef07-f0a6-4855-a2b7-52b86b7f5e33",
   "metadata": {},
   "source": [
    "# `nn.ReLU`\n",
    "Non-linear activations are what creates the complex mappings between inputs and outputs. Applied after linear transformations ->introduces nonlinearity\n",
    "NB : we use `nn.ReLU` between linear layers."
   ]
  },
  {
   "cell_type": "code",
   "execution_count": 27,
   "id": "c9faeb06-68bc-49a6-a8c0-7384e0b4473f",
   "metadata": {},
   "outputs": [
    {
     "name": "stdout",
     "output_type": "stream",
     "text": [
      "Before ReLU: tensor([[ 0.5523,  0.0487,  0.6696,  0.0483, -0.2111, -0.4048,  0.1154,  0.2000,\n",
      "         -0.2358,  0.0392,  0.9795,  0.2493, -0.4088,  0.0634, -0.1928,  0.1731,\n",
      "          0.3302,  0.2490,  0.0813,  0.3022],\n",
      "        [ 0.8684,  0.0963,  0.7463,  0.2036, -0.0080, -0.1548,  0.1826,  0.2404,\n",
      "         -0.2113, -0.3431,  0.9179, -0.3393, -0.3398,  0.1019, -0.0288, -0.1276,\n",
      "          0.4030,  0.5859, -0.3332,  0.3952],\n",
      "        [ 0.6744,  0.2774,  0.3268, -0.2159,  0.0605, -0.0430,  0.4705,  0.1292,\n",
      "         -0.2732, -0.0534,  1.1249, -0.1643,  0.0082,  0.0472,  0.0759, -0.1230,\n",
      "          0.6870,  0.3086,  0.0776,  0.1862]], grad_fn=<AddmmBackward0>)\n",
      "\n",
      "\n",
      "After ReLU: tensor([[0.5523, 0.0487, 0.6696, 0.0483, 0.0000, 0.0000, 0.1154, 0.2000, 0.0000,\n",
      "         0.0392, 0.9795, 0.2493, 0.0000, 0.0634, 0.0000, 0.1731, 0.3302, 0.2490,\n",
      "         0.0813, 0.3022],\n",
      "        [0.8684, 0.0963, 0.7463, 0.2036, 0.0000, 0.0000, 0.1826, 0.2404, 0.0000,\n",
      "         0.0000, 0.9179, 0.0000, 0.0000, 0.1019, 0.0000, 0.0000, 0.4030, 0.5859,\n",
      "         0.0000, 0.3952],\n",
      "        [0.6744, 0.2774, 0.3268, 0.0000, 0.0605, 0.0000, 0.4705, 0.1292, 0.0000,\n",
      "         0.0000, 1.1249, 0.0000, 0.0082, 0.0472, 0.0759, 0.0000, 0.6870, 0.3086,\n",
      "         0.0776, 0.1862]], grad_fn=<ReluBackward0>)\n"
     ]
    }
   ],
   "source": [
    "print(f\"Before ReLU: {hidden1}\\n\\n\")\n",
    "hidden1 = nn.ReLU()(hidden1)\n",
    "print(f\"After ReLU: {hidden1}\")"
   ]
  },
  {
   "cell_type": "markdown",
   "id": "bf14c004-157a-49c9-974d-4fbc7b476ffa",
   "metadata": {},
   "source": [
    "# `nn.Sequential`\n",
    "An ordered container of modules. Data passed throuugh all the modules in the order defined. Sequential containers are used to put together a quick network like `seq_modules`."
   ]
  },
  {
   "cell_type": "code",
   "execution_count": 30,
   "id": "526d0e0a-95d5-44c0-9e6d-f21e29477783",
   "metadata": {},
   "outputs": [],
   "source": [
    "seq_modules = nn.Sequential(\n",
    "    flatten,\n",
    "    layer1,\n",
    "    nn.ReLU(),\n",
    "    nn.Linear(20,10)\n",
    ")\n",
    "input_image = torch.rand(3,28,28)\n",
    "logits = seq_modules(input_image)"
   ]
  },
  {
   "cell_type": "markdown",
   "id": "33994d42-921d-4fec-b260-30ffd81ba74d",
   "metadata": {},
   "source": [
    "# `nn.Softmax`\n",
    "The last layer returns logits $\\in [-\\infty,\\infty]$. These are passed to the `nn.Softmax` module. Logits scaled to values $[0,1]$ representing the models predicted probabilities for each class. `dim` parameter indicated the dimension along which the values sum to 1"
   ]
  },
  {
   "cell_type": "code",
   "execution_count": 34,
   "id": "b442c37e-f177-4817-a999-58ab89168463",
   "metadata": {},
   "outputs": [
    {
     "name": "stdout",
     "output_type": "stream",
     "text": [
      "tensor([[0.1042, 0.1252, 0.1229, 0.0744, 0.0679, 0.1198, 0.0876, 0.0953, 0.1096,\n",
      "         0.0932],\n",
      "        [0.1078, 0.1407, 0.1065, 0.0854, 0.0594, 0.1033, 0.0972, 0.1181, 0.1055,\n",
      "         0.0760],\n",
      "        [0.1142, 0.1131, 0.1159, 0.0756, 0.0674, 0.1233, 0.0992, 0.1042, 0.1018,\n",
      "         0.0855]], grad_fn=<SoftmaxBackward0>)\n"
     ]
    }
   ],
   "source": [
    "softmax = nn.Softmax(dim=1)\n",
    "pred_probab = softmax(logits)\n",
    "print(pred_probab)"
   ]
  },
  {
   "cell_type": "markdown",
   "id": "6f6d6e52-9bdc-4946-ba16-dd5daa41ac80",
   "metadata": {},
   "source": [
    "# Model Parameters\n",
    "Layers inside nn are parameterized (have associated weights and biases). Subclassing `nn.Module` automatically tracks all fields defined inside the object and makes all parameters accessible using the models `parameters()` or `named_parameters()` methods/"
   ]
  },
  {
   "cell_type": "code",
   "execution_count": 35,
   "id": "5e8b9aa1-ea67-4626-a118-dcd310d4b9b3",
   "metadata": {},
   "outputs": [
    {
     "name": "stdout",
     "output_type": "stream",
     "text": [
      "Model structure: NeuralNetwork(\n",
      "  (flatten): Flatten(start_dim=1, end_dim=-1)\n",
      "  (linear_relu_stack): Sequential(\n",
      "    (0): Linear(in_features=784, out_features=512, bias=True)\n",
      "    (1): ReLU()\n",
      "    (2): Linear(in_features=512, out_features=512, bias=True)\n",
      "    (3): ReLU()\n",
      "    (4): Linear(in_features=512, out_features=10, bias=True)\n",
      "  )\n",
      ")\n",
      "\n",
      "\n",
      "Layer: linear_relu_stack.0.weight | Size: torch.Size([512, 784]) | Values: tensor([[ 0.0060, -0.0352, -0.0151,  ...,  0.0220,  0.0199,  0.0259],\n",
      "        [-0.0048, -0.0066,  0.0035,  ..., -0.0191, -0.0110,  0.0138]],\n",
      "       device='cuda:0', grad_fn=<SliceBackward0>)\n",
      "Layer: linear_relu_stack.0.bias | Size: torch.Size([512]) | Values: tensor([-0.0187, -0.0302], device='cuda:0', grad_fn=<SliceBackward0>)\n",
      "Layer: linear_relu_stack.2.weight | Size: torch.Size([512, 512]) | Values: tensor([[-0.0361,  0.0078,  0.0154,  ...,  0.0156,  0.0415, -0.0432],\n",
      "        [-0.0098, -0.0143,  0.0079,  ...,  0.0245, -0.0013,  0.0203]],\n",
      "       device='cuda:0', grad_fn=<SliceBackward0>)\n",
      "Layer: linear_relu_stack.2.bias | Size: torch.Size([512]) | Values: tensor([-0.0173,  0.0255], device='cuda:0', grad_fn=<SliceBackward0>)\n",
      "Layer: linear_relu_stack.4.weight | Size: torch.Size([10, 512]) | Values: tensor([[ 0.0329, -0.0296,  0.0269,  ..., -0.0181,  0.0161, -0.0423],\n",
      "        [-0.0306, -0.0407,  0.0427,  ..., -0.0297,  0.0083, -0.0441]],\n",
      "       device='cuda:0', grad_fn=<SliceBackward0>)\n",
      "Layer: linear_relu_stack.4.bias | Size: torch.Size([10]) | Values: tensor([-0.0361, -0.0131], device='cuda:0', grad_fn=<SliceBackward0>)\n"
     ]
    }
   ],
   "source": [
    "print(f\"Model structure: {model}\\n\\n\")\n",
    "\n",
    "for name, param in model.named_parameters():\n",
    "    print(f\"Layer: {name} | Size: {param.size()} | Values: {param[:2]}\")"
   ]
  },
  {
   "cell_type": "code",
   "execution_count": null,
   "id": "130a82d8-1ed6-43e5-b11e-9109b7c7dac5",
   "metadata": {},
   "outputs": [],
   "source": []
  }
 ],
 "metadata": {
  "kernelspec": {
   "display_name": "Python 3 (ipykernel)",
   "language": "python",
   "name": "python3"
  },
  "language_info": {
   "codemirror_mode": {
    "name": "ipython",
    "version": 3
   },
   "file_extension": ".py",
   "mimetype": "text/x-python",
   "name": "python",
   "nbconvert_exporter": "python",
   "pygments_lexer": "ipython3",
   "version": "3.12.3"
  }
 },
 "nbformat": 4,
 "nbformat_minor": 5
}

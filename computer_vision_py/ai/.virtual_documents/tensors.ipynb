


import torch
import numpy as np





data = [[1,2],[3,4]]
x_data = torch.tensor(data)





np_array = np.array(data)
x_np = torch.from_numpy(np_array)





x_ones = torch.ones_like(x_data)
print(f"Ones Tensor \n {x_ones} \n")

x_rand = torch.rand_like(x_data, dtype= torch.float)
print(f"Random tensor \n {x_rand} \n")






shape = (2,3,)
rand_tensor = torch.rand(shape)
ones_tensor = torch.ones(shape)
zeros_tensor = torch.zeros(shape)

print(f"Random tensor \n {rand_tensor} \n")
print(f"Ones tensor \n {ones_tensor} \n")
print(f"Zeros tensor \n {zeros_tensor} \n")





tensor = torch.rand(3,4)

print(f"Shape of tensor : {tensor.shape}")
print(f"Datatype of tensor : {tensor.dtype}")
print(f"Device tensor is store on {tensor.device}")





if torch.cuda.is_available():
    tensor = tensor.to("cuda")
    print(f"{tensor.device}")





tensor = torch.ones(4,4)
print(tensor)
print("-"*50)
print(f"First Row: {tensor[0]}")
print(f"First Column: {tensor[:,0]}")
print(f"Last Column: {tensor[...,-1]}")
#sets the 2nd (first index) coloumn to 0
tensor[:,1] = 0
print(tensor)





t1 = torch.cat([tensor,tensor,tensor,tensor], dim = 1)
print(t1)





# The three operations all computes the matrix multiplication between two tensors
# ``tensor.T`` returns the transpose of a tensor

y1 = tensor @ tensor.T
print(f"y1: {y1}  \n")
y2 = tensor.matmul(tensor.T)
print(f"y2: {y2}  \n")
y3 = torch.rand_like(y1)
torch.matmul(tensor, tensor.T, out=y3)
print(f"y3: {y3}  \n")



# Element wise product, again all three have the same value
z1 = tensor * tensor
print(f"z1 : {z1}")
z2 = tensor.mul(tensor)
print(f"z2 : {z2}")
z3 = torch.rand_like(tensor)
torch.mul(tensor, tensor, out= z3)
print(f"z3 : {z3}")





agg = tensor.sum()
print(f"Single Element Tensor : {agg}")
agg_item = agg.item()
print(f"Value : D-Type \n{agg_item}, {type(agg_item)}")





print(f"{tensor} \n")
tensor.add_(5)
print(tensor)





t = torch.ones(5)
print(f"t : {t}")

n = t.numpy()
print(f"b : {n}")


t.add_(1)
print(f"t : {t}")
print(f"n : {n}")





n = np.ones(5)
t = torch.from_numpy(n)





np.add(n,1,out=n)
print(f"n : {n}")
print(f"t : {t}")




{
 "cells": [
  {
   "cell_type": "markdown",
   "id": "c7776a3b-5c3b-48f7-a673-a885b94fd2fe",
   "metadata": {},
   "source": [
    "# Building Neural Networks\n",
    "## Importing libraries"
   ]
  },
  {
   "cell_type": "code",
   "id": "47fb09d8-3085-44a3-ac9a-ba125b683375",
   "metadata": {
    "ExecuteTime": {
     "end_time": "2024-06-14T22:10:37.288108Z",
     "start_time": "2024-06-14T22:10:35.522654Z"
    }
   },
   "source": [
    "import os\n",
    "import torch\n",
    "from torch import nn\n",
    "from torch.utils.data import DataLoader\n",
    "from torchvision import datasets, transforms"
   ],
   "outputs": [],
   "execution_count": 2
  },
  {
   "cell_type": "markdown",
   "id": "754a5cf5-92d6-4e6b-86d0-c15db6c230ad",
   "metadata": {},
   "source": [
    "# What device for training?\n",
    "Use GPU of MPS if available. Device configured as such."
   ]
  },
  {
   "cell_type": "code",
   "id": "e419efd4-1ad4-4f74-b7c5-86a8a91cd108",
   "metadata": {
    "ExecuteTime": {
     "end_time": "2024-06-14T22:10:39.050427Z",
     "start_time": "2024-06-14T22:10:39.045424Z"
    }
   },
   "source": [
    "device = (\n",
    "    \"cuda\"\n",
    "    if torch.cuda.is_available()\n",
    "    else \"mps\"\n",
    "    if torch.backends.mps.is_available()\n",
    "    else \"cpu\"\n",
    ")\n",
    "print(f\"Using {device} device\")"
   ],
   "outputs": [
    {
     "name": "stdout",
     "output_type": "stream",
     "text": [
      "Using cpu device\n"
     ]
    }
   ],
   "execution_count": 3
  },
  {
   "cell_type": "markdown",
   "id": "daad64f0-b794-4c87-b048-bb9dfbfee187",
   "metadata": {},
   "source": [
    "# Defining the nn class\n",
    "Initialise the neural network layers in `__init__`. Every NN subclass implements the operations on input data in the `forward` method"
   ]
  },
  {
   "cell_type": "code",
   "id": "6e1c0cc5-604e-45c7-914a-0d27e2781506",
   "metadata": {
    "ExecuteTime": {
     "end_time": "2024-06-14T22:10:41.017646Z",
     "start_time": "2024-06-14T22:10:41.012544Z"
    }
   },
   "source": [
    "class NeuralNetwork(nn.Module):\n",
    "    def __init__(self):\n",
    "        super().__init__()\n",
    "        self.flatten = nn.Flatten()\n",
    "        self.linear_relu_stack = nn.Sequential(\n",
    "            nn.Linear(28*28, 512),\n",
    "            nn.ReLU(),\n",
    "            nn.Linear(512, 512),\n",
    "            nn.ReLU(),\n",
    "            nn.Linear(512,10),\n",
    "        )\n",
    "    def forward(self, x):\n",
    "        x = self.flatten(x)\n",
    "        logits = self.linear_relu_stack(x)\n",
    "        return logits"
   ],
   "outputs": [],
   "execution_count": 4
  },
  {
   "cell_type": "markdown",
   "id": "48c46e8d-2145-4732-92c1-9d246860735d",
   "metadata": {},
   "source": [
    "Create an instance of the class move it to the device and check the structure"
   ]
  },
  {
   "cell_type": "code",
   "id": "5f65511b-c45c-4a9c-9300-5a7704c0e468",
   "metadata": {
    "ExecuteTime": {
     "end_time": "2024-06-14T22:10:44.286052Z",
     "start_time": "2024-06-14T22:10:44.274284Z"
    }
   },
   "source": [
    "\n",
    "model = NeuralNetwork().to(device)\n",
    "print(model)"
   ],
   "outputs": [
    {
     "name": "stdout",
     "output_type": "stream",
     "text": [
      "NeuralNetwork(\n",
      "  (flatten): Flatten(start_dim=1, end_dim=-1)\n",
      "  (linear_relu_stack): Sequential(\n",
      "    (0): Linear(in_features=784, out_features=512, bias=True)\n",
      "    (1): ReLU()\n",
      "    (2): Linear(in_features=512, out_features=512, bias=True)\n",
      "    (3): ReLU()\n",
      "    (4): Linear(in_features=512, out_features=10, bias=True)\n",
      "  )\n",
      ")\n"
     ]
    }
   ],
   "execution_count": 5
  },
  {
   "cell_type": "markdown",
   "id": "79ee6389-ca17-4dfe-ac17-d85c3914e205",
   "metadata": {},
   "source": [
    "As a test call the model with so"
   ]
  },
  {
   "cell_type": "code",
   "id": "aa2d6267-9f5e-4077-8764-e5d894ab095f",
   "metadata": {
    "ExecuteTime": {
     "end_time": "2024-06-14T22:10:48.684854Z",
     "start_time": "2024-06-14T22:10:48.674864Z"
    }
   },
   "source": [
    "X = torch.rand(1, 28, 28, device=device)\n",
    "logits = model(X)\n",
    "pred_probab = nn.Softmax(dim=1)(logits)\n",
    "y_pred = pred_probab.argmax(1)\n",
    "print(f\"Predicted class: {y_pred}\")"
   ],
   "outputs": [
    {
     "name": "stdout",
     "output_type": "stream",
     "text": [
      "Predicted class: tensor([5])\n"
     ]
    }
   ],
   "execution_count": 6
  },
  {
   "cell_type": "markdown",
   "id": "2600fe43-0628-47cf-8cce-174a870117e1",
   "metadata": {},
   "source": [
    "# Layers\n",
    "Break down the layers in the FashionMNIST model. Showing this taking a sample of 3 images of size $28 \\times 28$"
   ]
  },
  {
   "cell_type": "code",
   "id": "800d48f6-eb69-48a3-a4eb-98f0e8cbeaa6",
   "metadata": {
    "ExecuteTime": {
     "end_time": "2024-06-14T22:10:54.004434Z",
     "start_time": "2024-06-14T22:10:54.001159Z"
    }
   },
   "source": [
    "input_image = torch.rand(3,28,28)\n",
    "print(input_image.size())"
   ],
   "outputs": [
    {
     "name": "stdout",
     "output_type": "stream",
     "text": [
      "torch.Size([3, 28, 28])\n"
     ]
    }
   ],
   "execution_count": 7
  },
  {
   "cell_type": "markdown",
   "id": "8d506578-5c66-4b31-94f9-a42538cce0e5",
   "metadata": {},
   "source": [
    "# `nn.Flatten`\n",
    "Initialising the `nn.flatten` layer turns each 2d 28x28 imsgine into a contiguous array of 784 pixel values\n",
    "(minibatch dimension(at dim = 0) is maintained)"
   ]
  },
  {
   "cell_type": "code",
   "id": "77d2fb5f-335c-4a1b-8537-a96ca0da3672",
   "metadata": {
    "ExecuteTime": {
     "end_time": "2024-06-14T22:10:55.088465Z",
     "start_time": "2024-06-14T22:10:55.084784Z"
    }
   },
   "source": [
    "flatten = nn.Flatten()\n",
    "flat_image = flatten(input_image)\n",
    "print(flat_image.size())"
   ],
   "outputs": [
    {
     "name": "stdout",
     "output_type": "stream",
     "text": [
      "torch.Size([3, 784])\n"
     ]
    }
   ],
   "execution_count": 8
  },
  {
   "cell_type": "markdown",
   "id": "613b8a84-2fba-4a1a-944f-e661779889b0",
   "metadata": {},
   "source": [
    "# `nn.Linear`\n",
    "Applies a linear transformation on the input usin gits stored weights and biases"
   ]
  },
  {
   "cell_type": "code",
   "id": "bf6e534f-364a-4668-abe6-b9a24bc45ec7",
   "metadata": {
    "ExecuteTime": {
     "end_time": "2024-06-14T22:10:55.603056Z",
     "start_time": "2024-06-14T22:10:55.597260Z"
    }
   },
   "source": [
    "layer1 = nn.Linear(in_features=28*28, out_features=20)\n",
    "hidden1 = layer1(flat_image)\n",
    "print(hidden1.size())"
   ],
   "outputs": [
    {
     "name": "stdout",
     "output_type": "stream",
     "text": [
      "torch.Size([3, 20])\n"
     ]
    }
   ],
   "execution_count": 9
  },
  {
   "cell_type": "markdown",
   "id": "51afef07-f0a6-4855-a2b7-52b86b7f5e33",
   "metadata": {},
   "source": [
    "# `nn.ReLU`\n",
    "Non-linear activations are what creates the complex mappings between inputs and outputs. Applied after linear transformations ->introduces nonlinearity\n",
    "NB : we use `nn.ReLU` between linear layers."
   ]
  },
  {
   "cell_type": "code",
   "id": "c9faeb06-68bc-49a6-a8c0-7384e0b4473f",
   "metadata": {
    "ExecuteTime": {
     "end_time": "2024-06-14T22:10:56.040363Z",
     "start_time": "2024-06-14T22:10:56.033310Z"
    }
   },
   "source": [
    "print(f\"Before ReLU: {hidden1}\\n\\n\")\n",
    "hidden1 = nn.ReLU()(hidden1)\n",
    "print(f\"After ReLU: {hidden1}\")"
   ],
   "outputs": [
    {
     "name": "stdout",
     "output_type": "stream",
     "text": [
      "Before ReLU: tensor([[-0.3023,  0.0073,  0.0824,  0.0167,  0.1658, -0.6901,  0.3428,  0.1891,\n",
      "         -0.4992, -0.3327, -0.0547,  0.3484,  0.0457, -0.5326,  0.2573, -0.0802,\n",
      "         -0.0663, -0.1082, -0.0534,  0.1303],\n",
      "        [-0.0995, -0.0548,  0.7120, -0.1790, -0.1979, -0.3309,  0.6175,  0.1577,\n",
      "         -0.9651, -0.4283,  0.0623,  0.2574, -0.0728, -0.6717,  0.1305, -0.2182,\n",
      "         -0.2958, -0.2314,  0.1740,  0.1030],\n",
      "        [-0.4701, -0.0150,  0.7958,  0.0579,  0.0675, -0.5418,  0.3622,  0.1876,\n",
      "         -0.2196, -0.3656, -0.2660,  0.0188, -0.2413, -0.4393,  0.2849,  0.0102,\n",
      "         -0.1003, -0.2320,  0.3071,  0.1246]], grad_fn=<AddmmBackward0>)\n",
      "\n",
      "\n",
      "After ReLU: tensor([[0.0000, 0.0073, 0.0824, 0.0167, 0.1658, 0.0000, 0.3428, 0.1891, 0.0000,\n",
      "         0.0000, 0.0000, 0.3484, 0.0457, 0.0000, 0.2573, 0.0000, 0.0000, 0.0000,\n",
      "         0.0000, 0.1303],\n",
      "        [0.0000, 0.0000, 0.7120, 0.0000, 0.0000, 0.0000, 0.6175, 0.1577, 0.0000,\n",
      "         0.0000, 0.0623, 0.2574, 0.0000, 0.0000, 0.1305, 0.0000, 0.0000, 0.0000,\n",
      "         0.1740, 0.1030],\n",
      "        [0.0000, 0.0000, 0.7958, 0.0579, 0.0675, 0.0000, 0.3622, 0.1876, 0.0000,\n",
      "         0.0000, 0.0000, 0.0188, 0.0000, 0.0000, 0.2849, 0.0102, 0.0000, 0.0000,\n",
      "         0.3071, 0.1246]], grad_fn=<ReluBackward0>)\n"
     ]
    }
   ],
   "execution_count": 10
  },
  {
   "cell_type": "markdown",
   "id": "bf14c004-157a-49c9-974d-4fbc7b476ffa",
   "metadata": {},
   "source": [
    "# `nn.Sequential`\n",
    "An ordered container of modules. Data passed throuugh all the modules in the order defined. Sequential containers are used to put together a quick network like `seq_modules`."
   ]
  },
  {
   "cell_type": "code",
   "id": "526d0e0a-95d5-44c0-9e6d-f21e29477783",
   "metadata": {
    "ExecuteTime": {
     "end_time": "2024-06-14T22:10:57.199449Z",
     "start_time": "2024-06-14T22:10:57.193760Z"
    }
   },
   "source": [
    "seq_modules = nn.Sequential(\n",
    "    flatten,\n",
    "    layer1,\n",
    "    nn.ReLU(),\n",
    "    nn.Linear(20,10)\n",
    ")\n",
    "input_image = torch.rand(3,28,28)\n",
    "logits = seq_modules(input_image)"
   ],
   "outputs": [],
   "execution_count": 11
  },
  {
   "cell_type": "markdown",
   "id": "33994d42-921d-4fec-b260-30ffd81ba74d",
   "metadata": {},
   "source": [
    "# `nn.Softmax`\n",
    "The last layer returns logits $\\in [-\\infty,\\infty]$. These are passed to the `nn.Softmax` module. Logits scaled to values $[0,1]$ representing the models predicted probabilities for each class. `dim` parameter indicated the dimension along which the values sum to 1"
   ]
  },
  {
   "cell_type": "code",
   "id": "b442c37e-f177-4817-a999-58ab89168463",
   "metadata": {
    "ExecuteTime": {
     "end_time": "2024-06-14T22:10:57.952708Z",
     "start_time": "2024-06-14T22:10:57.948149Z"
    }
   },
   "source": [
    "softmax = nn.Softmax(dim=1)\n",
    "pred_probab = softmax(logits)\n",
    "print(pred_probab)"
   ],
   "outputs": [
    {
     "name": "stdout",
     "output_type": "stream",
     "text": [
      "tensor([[0.1238, 0.0799, 0.0964, 0.1047, 0.1076, 0.0940, 0.1022, 0.1036, 0.0860,\n",
      "         0.1020],\n",
      "        [0.1279, 0.0872, 0.0841, 0.1115, 0.1049, 0.0849, 0.1046, 0.0985, 0.0851,\n",
      "         0.1113],\n",
      "        [0.1313, 0.0857, 0.0859, 0.0991, 0.1122, 0.0946, 0.1030, 0.1060, 0.0820,\n",
      "         0.1003]], grad_fn=<SoftmaxBackward0>)\n"
     ]
    }
   ],
   "execution_count": 12
  },
  {
   "cell_type": "markdown",
   "id": "6f6d6e52-9bdc-4946-ba16-dd5daa41ac80",
   "metadata": {},
   "source": [
    "# Model Parameters\n",
    "Layers inside nn are parameterized (have associated weights and biases). Subclassing `nn.Module` automatically tracks all fields defined inside the object and makes all parameters accessible using the models `parameters()` or `named_parameters()` methods/"
   ]
  },
  {
   "cell_type": "code",
   "id": "5e8b9aa1-ea67-4626-a118-dcd310d4b9b3",
   "metadata": {
    "ExecuteTime": {
     "end_time": "2024-06-14T22:10:59.180953Z",
     "start_time": "2024-06-14T22:10:59.175704Z"
    }
   },
   "source": [
    "print(f\"Model structure: {model}\\n\\n\")\n",
    "\n",
    "for name, param in model.named_parameters():\n",
    "    print(f\"Layer: {name} | Size: {param.size()} | Values: {param[:2]}\")"
   ],
   "outputs": [
    {
     "name": "stdout",
     "output_type": "stream",
     "text": [
      "Model structure: NeuralNetwork(\n",
      "  (flatten): Flatten(start_dim=1, end_dim=-1)\n",
      "  (linear_relu_stack): Sequential(\n",
      "    (0): Linear(in_features=784, out_features=512, bias=True)\n",
      "    (1): ReLU()\n",
      "    (2): Linear(in_features=512, out_features=512, bias=True)\n",
      "    (3): ReLU()\n",
      "    (4): Linear(in_features=512, out_features=10, bias=True)\n",
      "  )\n",
      ")\n",
      "\n",
      "\n",
      "Layer: linear_relu_stack.0.weight | Size: torch.Size([512, 784]) | Values: tensor([[-0.0163, -0.0223,  0.0036,  ...,  0.0089,  0.0022, -0.0111],\n",
      "        [ 0.0026, -0.0120,  0.0008,  ..., -0.0019,  0.0354, -0.0164]],\n",
      "       grad_fn=<SliceBackward0>)\n",
      "Layer: linear_relu_stack.0.bias | Size: torch.Size([512]) | Values: tensor([0.0215, 0.0007], grad_fn=<SliceBackward0>)\n",
      "Layer: linear_relu_stack.2.weight | Size: torch.Size([512, 512]) | Values: tensor([[-0.0170, -0.0130,  0.0379,  ...,  0.0332,  0.0358, -0.0108],\n",
      "        [-0.0229,  0.0243,  0.0127,  ...,  0.0309, -0.0391, -0.0178]],\n",
      "       grad_fn=<SliceBackward0>)\n",
      "Layer: linear_relu_stack.2.bias | Size: torch.Size([512]) | Values: tensor([0.0108, 0.0265], grad_fn=<SliceBackward0>)\n",
      "Layer: linear_relu_stack.4.weight | Size: torch.Size([10, 512]) | Values: tensor([[-0.0030, -0.0330, -0.0335,  ...,  0.0280,  0.0425,  0.0184],\n",
      "        [ 0.0089, -0.0226, -0.0167,  ..., -0.0315, -0.0319, -0.0205]],\n",
      "       grad_fn=<SliceBackward0>)\n",
      "Layer: linear_relu_stack.4.bias | Size: torch.Size([10]) | Values: tensor([0.0190, 0.0277], grad_fn=<SliceBackward0>)\n"
     ]
    }
   ],
   "execution_count": 13
  },
  {
   "metadata": {
    "ExecuteTime": {
     "end_time": "2024-06-14T22:10:59.775136Z",
     "start_time": "2024-06-14T22:10:59.773074Z"
    }
   },
   "cell_type": "code",
   "source": "",
   "id": "e66a1861edee8e00",
   "outputs": [],
   "execution_count": 13
  },
  {
   "metadata": {},
   "cell_type": "code",
   "outputs": [],
   "execution_count": null,
   "source": "",
   "id": "a8ffa31a711871a8"
  }
 ],
 "metadata": {
  "kernelspec": {
   "display_name": "Python 3 (ipykernel)",
   "language": "python",
   "name": "python3"
  },
  "language_info": {
   "codemirror_mode": {
    "name": "ipython",
    "version": 3
   },
   "file_extension": ".py",
   "mimetype": "text/x-python",
   "name": "python",
   "nbconvert_exporter": "python",
   "pygments_lexer": "ipython3",
   "version": "3.11.2"
  }
 },
 "nbformat": 4,
 "nbformat_minor": 5
}

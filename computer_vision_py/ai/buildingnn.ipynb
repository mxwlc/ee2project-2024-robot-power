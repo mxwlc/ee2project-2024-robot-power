{
 "cells": [
  {
   "cell_type": "markdown",
   "id": "c7776a3b-5c3b-48f7-a673-a885b94fd2fe",
   "metadata": {},
   "source": [
    "# Building Neural Networks\n",
    "## Importing libraries"
   ]
  },
  {
   "cell_type": "code",
   "id": "47fb09d8-3085-44a3-ac9a-ba125b683375",
   "metadata": {
    "ExecuteTime": {
     "end_time": "2024-06-04T22:19:22.290235Z",
     "start_time": "2024-06-04T22:19:17.904372Z"
    }
   },
   "source": [
    "import os\n",
    "import torch\n",
    "from torch import nn\n",
    "from torch.utils.data import DataLoader\n",
    "from torchvision import datasets, transforms"
   ],
   "outputs": [],
   "execution_count": 2
  },
  {
   "cell_type": "markdown",
   "id": "754a5cf5-92d6-4e6b-86d0-c15db6c230ad",
   "metadata": {},
   "source": [
    "# What device for training?\n",
    "Use GPU of MPS if available. Device configured as such."
   ]
  },
  {
   "cell_type": "code",
   "id": "e419efd4-1ad4-4f74-b7c5-86a8a91cd108",
   "metadata": {
    "ExecuteTime": {
     "end_time": "2024-06-04T22:19:27.745777Z",
     "start_time": "2024-06-04T22:19:27.741403Z"
    }
   },
   "source": [
    "device = (\n",
    "    \"cuda\"\n",
    "    if torch.cuda.is_available()\n",
    "    else \"mps\"\n",
    "    if torch.backends.mps.is_available()\n",
    "    else \"cpu\"\n",
    ")\n",
    "print(f\"Using {device} device\")"
   ],
   "outputs": [
    {
     "name": "stdout",
     "output_type": "stream",
     "text": [
      "Using cpu device\n"
     ]
    }
   ],
   "execution_count": 3
  },
  {
   "cell_type": "markdown",
   "id": "daad64f0-b794-4c87-b048-bb9dfbfee187",
   "metadata": {},
   "source": [
    "# Defining the nn class\n",
    "Initialise the neural network layers in `__init__`. Every NN subclass implements the operations on input data in the `forward` method"
   ]
  },
  {
   "cell_type": "code",
   "id": "6e1c0cc5-604e-45c7-914a-0d27e2781506",
   "metadata": {
    "ExecuteTime": {
     "end_time": "2024-06-04T22:19:33.171342Z",
     "start_time": "2024-06-04T22:19:33.164377Z"
    }
   },
   "source": [
    "class NeuralNetwork(nn.Module):\n",
    "    def __init__(self):\n",
    "        super().__init__()\n",
    "        self.flatten = nn.Flatten()\n",
    "        self.linear_relu_stack = nn.Sequential(\n",
    "            nn.Linear(28*28, 512),\n",
    "            nn.ReLU(),\n",
    "            nn.Linear(512, 512),\n",
    "            nn.ReLU(),\n",
    "            nn.Linear(512,10),\n",
    "        )\n",
    "    def forward(self, x):\n",
    "        x = self.flatten(x)\n",
    "        logits = self.linear_relu_stack(x)\n",
    "        return logits"
   ],
   "outputs": [],
   "execution_count": 4
  },
  {
   "cell_type": "markdown",
   "id": "48c46e8d-2145-4732-92c1-9d246860735d",
   "metadata": {},
   "source": [
    "Create an instance of the class move it to the device and check the structure"
   ]
  },
  {
   "cell_type": "code",
   "id": "5f65511b-c45c-4a9c-9300-5a7704c0e468",
   "metadata": {
    "ExecuteTime": {
     "end_time": "2024-06-04T22:19:34.666957Z",
     "start_time": "2024-06-04T22:19:34.652826Z"
    }
   },
   "source": [
    "model = NeuralNetwork().to(device)\n",
    "print(model)"
   ],
   "outputs": [
    {
     "name": "stdout",
     "output_type": "stream",
     "text": [
      "NeuralNetwork(\n",
      "  (flatten): Flatten(start_dim=1, end_dim=-1)\n",
      "  (linear_relu_stack): Sequential(\n",
      "    (0): Linear(in_features=784, out_features=512, bias=True)\n",
      "    (1): ReLU()\n",
      "    (2): Linear(in_features=512, out_features=512, bias=True)\n",
      "    (3): ReLU()\n",
      "    (4): Linear(in_features=512, out_features=10, bias=True)\n",
      "  )\n",
      ")\n"
     ]
    }
   ],
   "execution_count": 5
  },
  {
   "cell_type": "markdown",
   "id": "79ee6389-ca17-4dfe-ac17-d85c3914e205",
   "metadata": {},
   "source": [
    "As a test call the model with so"
   ]
  },
  {
   "cell_type": "code",
   "id": "aa2d6267-9f5e-4077-8764-e5d894ab095f",
   "metadata": {
    "ExecuteTime": {
     "end_time": "2024-06-04T22:19:36.019175Z",
     "start_time": "2024-06-04T22:19:36.005717Z"
    }
   },
   "source": [
    "X = torch.rand(1, 28, 28, device=device)\n",
    "logits = model(X)\n",
    "pred_probab = nn.Softmax(dim=1)(logits)\n",
    "y_pred = pred_probab.argmax(1)\n",
    "print(f\"Predicted class: {y_pred}\")"
   ],
   "outputs": [
    {
     "name": "stdout",
     "output_type": "stream",
     "text": [
      "Predicted class: tensor([1])\n"
     ]
    }
   ],
   "execution_count": 6
  },
  {
   "cell_type": "markdown",
   "id": "2600fe43-0628-47cf-8cce-174a870117e1",
   "metadata": {},
   "source": [
    "# Layers\n",
    "Break down the layers in the FashionMNIST model. Showing this taking a sample of 3 images of size $28 \\times 28$"
   ]
  },
  {
   "cell_type": "code",
   "execution_count": 6,
   "id": "800d48f6-eb69-48a3-a4eb-98f0e8cbeaa6",
   "metadata": {},
   "outputs": [
    {
     "name": "stdout",
     "output_type": "stream",
     "text": [
      "torch.Size([3, 28, 28])\n"
     ]
    }
   ],
   "source": [
    "input_image = torch.rand(3,28,28)\n",
    "print(input_image.size())"
   ]
  },
  {
   "cell_type": "markdown",
   "id": "8d506578-5c66-4b31-94f9-a42538cce0e5",
   "metadata": {},
   "source": [
    "# `nn.Flatten`\n",
    "Initialising the `nn.flatten` layer turns each 2d 28x28 imsgine into a contiguous array of 784 pixel values\n",
    "(minibatch dimension(at dim = 0) is maintained)"
   ]
  },
  {
   "cell_type": "code",
   "execution_count": 7,
   "id": "77d2fb5f-335c-4a1b-8537-a96ca0da3672",
   "metadata": {},
   "outputs": [
    {
     "name": "stdout",
     "output_type": "stream",
     "text": [
      "torch.Size([3, 784])\n"
     ]
    }
   ],
   "source": [
    "flatten = nn.Flatten()\n",
    "flat_image = flatten(input_image)\n",
    "print(flat_image.size())"
   ]
  },
  {
   "cell_type": "markdown",
   "id": "613b8a84-2fba-4a1a-944f-e661779889b0",
   "metadata": {},
   "source": [
    "# `nn.Linear`\n",
    "Applies a linear transformation on the input usin gits stored weights and biases"
   ]
  },
  {
   "cell_type": "code",
   "execution_count": 8,
   "id": "bf6e534f-364a-4668-abe6-b9a24bc45ec7",
   "metadata": {},
   "outputs": [
    {
     "name": "stdout",
     "output_type": "stream",
     "text": [
      "torch.Size([3, 20])\n"
     ]
    }
   ],
   "source": [
    "layer1 = nn.Linear(in_features=28*28, out_features=20)\n",
    "hidden1 = layer1(flat_image)\n",
    "print(hidden1.size())"
   ]
  },
  {
   "cell_type": "markdown",
   "id": "51afef07-f0a6-4855-a2b7-52b86b7f5e33",
   "metadata": {},
   "source": [
    "# `nn.ReLU`\n",
    "Non-linear activations are what creates the complex mappings between inputs and outputs. Applied after linear transformations ->introduces nonlinearity\n",
    "NB : we use `nn.ReLU` between linear layers."
   ]
  },
  {
   "cell_type": "code",
   "execution_count": 9,
   "id": "c9faeb06-68bc-49a6-a8c0-7384e0b4473f",
   "metadata": {},
   "outputs": [
    {
     "name": "stdout",
     "output_type": "stream",
     "text": [
      "Before ReLU: tensor([[ 0.3271,  0.6551, -0.0294,  0.2055,  0.7999, -0.1869,  0.1115, -0.0953,\n",
      "          0.2291,  0.0556,  0.0776, -0.1421,  0.2513, -0.3737,  0.5474, -0.1280,\n",
      "         -0.3800, -0.3561,  0.0320, -0.2831],\n",
      "        [ 0.0485,  0.4195,  0.1331,  0.5253,  0.4441,  0.2325, -0.1172, -0.2073,\n",
      "          0.0944,  0.2236, -0.0412, -0.3232,  0.0824, -0.0556,  0.1232, -0.0487,\n",
      "         -0.4097,  0.1007,  0.2564, -0.6745],\n",
      "        [ 0.2458,  0.1071,  0.3514,  0.1873,  0.5955,  0.1518,  0.1190, -0.0096,\n",
      "         -0.0644, -0.0054,  0.2538, -0.3848,  0.2111, -0.0580,  0.0679, -0.2022,\n",
      "         -0.2319,  0.0022,  0.1452, -0.5868]], grad_fn=<AddmmBackward0>)\n",
      "\n",
      "\n",
      "After ReLU: tensor([[0.3271, 0.6551, 0.0000, 0.2055, 0.7999, 0.0000, 0.1115, 0.0000, 0.2291,\n",
      "         0.0556, 0.0776, 0.0000, 0.2513, 0.0000, 0.5474, 0.0000, 0.0000, 0.0000,\n",
      "         0.0320, 0.0000],\n",
      "        [0.0485, 0.4195, 0.1331, 0.5253, 0.4441, 0.2325, 0.0000, 0.0000, 0.0944,\n",
      "         0.2236, 0.0000, 0.0000, 0.0824, 0.0000, 0.1232, 0.0000, 0.0000, 0.1007,\n",
      "         0.2564, 0.0000],\n",
      "        [0.2458, 0.1071, 0.3514, 0.1873, 0.5955, 0.1518, 0.1190, 0.0000, 0.0000,\n",
      "         0.0000, 0.2538, 0.0000, 0.2111, 0.0000, 0.0679, 0.0000, 0.0000, 0.0022,\n",
      "         0.1452, 0.0000]], grad_fn=<ReluBackward0>)\n"
     ]
    }
   ],
   "source": [
    "print(f\"Before ReLU: {hidden1}\\n\\n\")\n",
    "hidden1 = nn.ReLU()(hidden1)\n",
    "print(f\"After ReLU: {hidden1}\")"
   ]
  },
  {
   "cell_type": "markdown",
   "id": "bf14c004-157a-49c9-974d-4fbc7b476ffa",
   "metadata": {},
   "source": [
    "# `nn.Sequential`\n",
    "An ordered container of modules. Data passed throuugh all the modules in the order defined. Sequential containers are used to put together a quick network like `seq_modules`."
   ]
  },
  {
   "cell_type": "code",
   "execution_count": 10,
   "id": "526d0e0a-95d5-44c0-9e6d-f21e29477783",
   "metadata": {},
   "outputs": [],
   "source": [
    "seq_modules = nn.Sequential(\n",
    "    flatten,\n",
    "    layer1,\n",
    "    nn.ReLU(),\n",
    "    nn.Linear(20,10)\n",
    ")\n",
    "input_image = torch.rand(3,28,28)\n",
    "logits = seq_modules(input_image)"
   ]
  },
  {
   "cell_type": "markdown",
   "id": "33994d42-921d-4fec-b260-30ffd81ba74d",
   "metadata": {},
   "source": [
    "# `nn.Softmax`\n",
    "The last layer returns logits $\\in [-\\infty,\\infty]$. These are passed to the `nn.Softmax` module. Logits scaled to values $[0,1]$ representing the models predicted probabilities for each class. `dim` parameter indicated the dimension along which the values sum to 1"
   ]
  },
  {
   "cell_type": "code",
   "execution_count": 11,
   "id": "b442c37e-f177-4817-a999-58ab89168463",
   "metadata": {},
   "outputs": [
    {
     "name": "stdout",
     "output_type": "stream",
     "text": [
      "tensor([[0.0957, 0.1340, 0.0760, 0.0952, 0.1268, 0.1045, 0.1037, 0.0930, 0.1001,\n",
      "         0.0710],\n",
      "        [0.0994, 0.1463, 0.0690, 0.1025, 0.1261, 0.0977, 0.0820, 0.1054, 0.1022,\n",
      "         0.0694],\n",
      "        [0.0878, 0.1439, 0.0793, 0.0925, 0.1285, 0.1042, 0.0861, 0.1084, 0.1002,\n",
      "         0.0691]], grad_fn=<SoftmaxBackward0>)\n"
     ]
    }
   ],
   "source": [
    "softmax = nn.Softmax(dim=1)\n",
    "pred_probab = softmax(logits)\n",
    "print(pred_probab)"
   ]
  },
  {
   "cell_type": "markdown",
   "id": "6f6d6e52-9bdc-4946-ba16-dd5daa41ac80",
   "metadata": {},
   "source": [
    "# Model Parameters\n",
    "Layers inside nn are parameterized (have associated weights and biases). Subclassing `nn.Module` automatically tracks all fields defined inside the object and makes all parameters accessible using the models `parameters()` or `named_parameters()` methods/"
   ]
  },
  {
   "cell_type": "code",
   "execution_count": 12,
   "id": "5e8b9aa1-ea67-4626-a118-dcd310d4b9b3",
   "metadata": {},
   "outputs": [
    {
     "name": "stdout",
     "output_type": "stream",
     "text": [
      "Model structure: NeuralNetwork(\n",
      "  (flatten): Flatten(start_dim=1, end_dim=-1)\n",
      "  (linear_relu_stack): Sequential(\n",
      "    (0): Linear(in_features=784, out_features=512, bias=True)\n",
      "    (1): ReLU()\n",
      "    (2): Linear(in_features=512, out_features=512, bias=True)\n",
      "    (3): ReLU()\n",
      "    (4): Linear(in_features=512, out_features=10, bias=True)\n",
      "  )\n",
      ")\n",
      "\n",
      "\n",
      "Layer: linear_relu_stack.0.weight | Size: torch.Size([512, 784]) | Values: tensor([[ 0.0325, -0.0293, -0.0028,  ...,  0.0166, -0.0259, -0.0345],\n",
      "        [-0.0055, -0.0312, -0.0004,  ...,  0.0318,  0.0341, -0.0024]],\n",
      "       device='cuda:0', grad_fn=<SliceBackward0>)\n",
      "Layer: linear_relu_stack.0.bias | Size: torch.Size([512]) | Values: tensor([-0.0100, -0.0237], device='cuda:0', grad_fn=<SliceBackward0>)\n",
      "Layer: linear_relu_stack.2.weight | Size: torch.Size([512, 512]) | Values: tensor([[-0.0078,  0.0349, -0.0391,  ..., -0.0145,  0.0326,  0.0190],\n",
      "        [ 0.0028, -0.0051,  0.0187,  ...,  0.0012, -0.0079,  0.0357]],\n",
      "       device='cuda:0', grad_fn=<SliceBackward0>)\n",
      "Layer: linear_relu_stack.2.bias | Size: torch.Size([512]) | Values: tensor([ 0.0250, -0.0329], device='cuda:0', grad_fn=<SliceBackward0>)\n",
      "Layer: linear_relu_stack.4.weight | Size: torch.Size([10, 512]) | Values: tensor([[-0.0394,  0.0304, -0.0368,  ...,  0.0250,  0.0268,  0.0007],\n",
      "        [ 0.0336, -0.0242, -0.0074,  ...,  0.0147,  0.0301, -0.0055]],\n",
      "       device='cuda:0', grad_fn=<SliceBackward0>)\n",
      "Layer: linear_relu_stack.4.bias | Size: torch.Size([10]) | Values: tensor([0.0201, 0.0342], device='cuda:0', grad_fn=<SliceBackward0>)\n"
     ]
    }
   ],
   "source": [
    "print(f\"Model structure: {model}\\n\\n\")\n",
    "\n",
    "for name, param in model.named_parameters():\n",
    "    print(f\"Layer: {name} | Size: {param.size()} | Values: {param[:2]}\")"
   ]
  }
 ],
 "metadata": {
  "kernelspec": {
   "display_name": "Python 3 (ipykernel)",
   "language": "python",
   "name": "python3"
  },
  "language_info": {
   "codemirror_mode": {
    "name": "ipython",
    "version": 3
   },
   "file_extension": ".py",
   "mimetype": "text/x-python",
   "name": "python",
   "nbconvert_exporter": "python",
   "pygments_lexer": "ipython3",
   "version": "3.12.3"
  }
 },
 "nbformat": 4,
 "nbformat_minor": 5
}

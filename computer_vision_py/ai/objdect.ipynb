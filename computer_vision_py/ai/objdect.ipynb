{
 "cells": [
  {
   "cell_type": "markdown",
   "id": "48a26e42-2c0c-4944-bd10-1af2aa5f057f",
   "metadata": {},
   "source": [
    "# Object Detection"
   ]
  },
  {
   "cell_type": "code",
   "id": "b05ba67c-9a68-48eb-8225-cdb51de2c7cb",
   "metadata": {
    "ExecuteTime": {
     "end_time": "2024-06-14T22:07:56.286860Z",
     "start_time": "2024-06-14T22:07:52.075271Z"
    }
   },
   "source": [
    "import os\n",
    "import torch\n",
    "from torch import nn\n",
    "from torch.utils.data import DataLoader\n",
    "from torchvision import datasets, transforms\n",
    "import numpy as np\n",
    "import matplotlib.pyplot as plt"
   ],
   "outputs": [],
   "execution_count": 1
  },
  {
   "cell_type": "code",
   "id": "ce451ae9-80b7-430d-a350-6a0c672c1a49",
   "metadata": {
    "ExecuteTime": {
     "end_time": "2024-06-14T22:09:47.363915Z",
     "start_time": "2024-06-14T22:09:47.357797Z"
    }
   },
   "source": "print(np.zeros((2,3), dtype=int))",
   "outputs": [
    {
     "name": "stdout",
     "output_type": "stream",
     "text": [
      "[[0 0 0]\n",
      " [0 0 0]]\n"
     ]
    }
   ],
   "execution_count": 4
  },
  {
   "metadata": {},
   "cell_type": "code",
   "outputs": [],
   "execution_count": null,
   "source": "",
   "id": "a5f16c00bc423bfb"
  }
 ],
 "metadata": {
  "kernelspec": {
   "display_name": "Python 3 (ipykernel)",
   "language": "python",
   "name": "python3"
  },
  "language_info": {
   "codemirror_mode": {
    "name": "ipython",
    "version": 3
   },
   "file_extension": ".py",
   "mimetype": "text/x-python",
   "name": "python",
   "nbconvert_exporter": "python",
   "pygments_lexer": "ipython3",
   "version": "3.11.2"
  }
 },
 "nbformat": 4,
 "nbformat_minor": 5
}
